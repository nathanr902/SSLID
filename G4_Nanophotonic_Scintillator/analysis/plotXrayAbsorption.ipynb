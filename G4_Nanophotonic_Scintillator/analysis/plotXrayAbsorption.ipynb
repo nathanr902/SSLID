{
 "cells": [
  {
   "cell_type": "code",
   "execution_count": null,
   "metadata": {},
   "outputs": [],
   "source": [
    "import pandas as pd\n",
    "import uproot\n",
    "import numpy as np\n",
    "\n",
    "# reading root file\n",
    "# root_file = uproot.open('../output_hybrid_absoption.root')\n",
    "root_file = uproot.open('../build/output0.root')\n",
    "photons = root_file[\"Photons\"]"
   ]
  },
  {
   "cell_type": "code",
   "execution_count": null,
   "metadata": {},
   "outputs": [],
   "source": [
    "# Considering only x-rays\n",
    "photonType = [t for t in photons[\"fType\"].array()]\n",
    "relevant_ind = [t == 'gamma' for t in photonType] \n",
    "photonsX = np.array(photons[\"fX\"].array())[relevant_ind]\n",
    "photonsY = np.array(photons[\"fY\"].array())[relevant_ind]\n",
    "photonsZ = np.array(photons[\"fZ\"].array())[relevant_ind]"
   ]
  },
  {
   "cell_type": "code",
   "execution_count": null,
   "metadata": {},
   "outputs": [],
   "source": [
    "# Plot absorption as a function of the depth\n",
    "%matplotlib widget\n",
    "import numpy as np\n",
    "import matplotlib.pyplot as plt\n",
    "from matplotlib import cm\n",
    "fig = plt.figure()\n",
    "ax = fig.add_subplot(111)\n",
    "\n",
    "ax.hist(photonsZ, bins=int(np.sqrt(len(photonsZ))))\n",
    "\n",
    "ax.set_xlabel('Z [mm]')\n",
    "ax.set_ylabel('X-ray counts')\n",
    "ax.set_title('Histogram of x-ray depth absorption')\n",
    "plt.show()"
   ]
  }
 ],
 "metadata": {
  "kernelspec": {
   "display_name": "Python 3",
   "language": "python",
   "name": "python3"
  },
  "language_info": {
   "codemirror_mode": {
    "name": "ipython",
    "version": 3
   },
   "file_extension": ".py",
   "mimetype": "text/x-python",
   "name": "python",
   "nbconvert_exporter": "python",
   "pygments_lexer": "ipython3",
   "version": "3.11.4"
  },
  "orig_nbformat": 4
 },
 "nbformat": 4,
 "nbformat_minor": 2
}
