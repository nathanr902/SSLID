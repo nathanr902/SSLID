{
 "cells": [
  {
   "cell_type": "code",
   "execution_count": 9,
   "metadata": {},
   "outputs": [],
   "source": [
    "import pandas as pd\n",
    "import uproot\n",
    "import numpy as np\n",
    "\n",
    "# reading root file\n",
    "\n",
    "\n",
    "#root_file = uproot.open(\"/home/nathan.regev/software/git_repo/G4_Nanophotonic_Scintillator/nonpriodic_sim_100000_photons_6layers202411141033153022956ed93096-c327-4699-947b-39acd0b63ecb.root\")\n",
    "\n",
    "root_file = uproot.open(\"/home/nathan.regev/software/git_repo/G4_Nanophotonic_Scintillator/bulk_sim_100000_repetitions.root\")\n",
    "photons = root_file[\"Photons\"]"
   ]
  },
  {
   "cell_type": "code",
   "execution_count": 11,
   "metadata": {},
   "outputs": [
    {
     "name": "stdout",
     "output_type": "stream",
     "text": [
      "particle\tproces\t\tmaterial\tparentPar\tcreatorProc\tstatus\tprocessType2\tsubSrocessType\tfirst step\tstep index\tnum events\n",
      "\n",
      "gamma\t\tphot\t\tPVT\t\tnone\t\tnone\t\t4\t\t2\t\t12\t\t1\t\t\t\t21\n",
      "lepton\t\tnone\t\tPVT\t\tgamma\t\tphot\t\t7\t\t0\t\t-1\t\t1\t\t\t\t298\n",
      "optica\t\tnone\t\tPVT\t\tlepton\t\tScinti\t\t7\t\t0\t\t-1\t\t1\t\t\t\t708\n",
      "lepton\t\tmsc\t\tPVT\t\tgamma\t\tphot\t\t3\t\t2\t\t10\t\t0\t\t\t\t251\n",
      "lepton\t\teIoni\t\tPVT\t\tgamma\t\tphot\t\t3\t\t2\t\t2\t\t0\t\t\t\t10\n",
      "optica\t\tnone\t\tPVT\t\tgamma\t\tScinti\t\t7\t\t0\t\t-1\t\t1\t\t\t\t8\n",
      "gamma\t\tcompt\t\tPVT\t\tnone\t\tnone\t\t4\t\t2\t\t13\t\t1\t\t\t\t3\n",
      "lepton\t\tnone\t\tPVT\t\tgamma\t\tcompt\t\t7\t\t0\t\t-1\t\t1\t\t\t\t3\n",
      "lepton\t\tmsc\t\tPVT\t\tgamma\t\tcompt\t\t3\t\t2\t\t10\t\t1\t\t\t\t1\n",
      "gamma\t\tRayl\t\tPVT\t\tnone\t\tnone\t\t4\t\t2\t\t11\t\t1\t\t\t\t1\n",
      "lepton\t\tmsc\t\tPVT\t\tgamma\t\tcompt\t\t3\t\t2\t\t10\t\t0\t\t\t\t2\n",
      "lepton\t\teIoni\t\tPVT\t\tgamma\t\tcompt\t\t3\t\t2\t\t2\t\t0\t\t\t\t2\n"
     ]
    }
   ],
   "source": [
    "# Considering only optical photons\n",
    "photonType = [t for t in photons[\"fType\"].array()]\n",
    "processType = [t for t in photons[\"fProcess\"].array()]\n",
    "#fStepStatusNumber=[t for t in photons[\"fStepStatusNumber\"].array()]\n",
    "status = [t for t in photons[\"fStepStatusNumber\"].array()]\n",
    "processType2 = [t for t in photons[\"fProcessType\"].array()]\n",
    "subSrocessType = [t for t in photons[\"fSubProcessType\"].array()]\n",
    "creatorProcess = [t for t in photons[\"fCreatorProcess\"].array()]\n",
    "trackID = [t for t in photons[\"ftrackID\"].array()]\n",
    "parentTrackID = [t for t in photons[\"fParentTrackID\"].array()]\n",
    "firstStep=[t for t in photons[\"FirstStep\"].array()]\n",
    "#stepIndex=[t for t in photons[\"step_index\"].array()]\n",
    "material = [t for t in photons[\"fMaterial\"].array()]\n",
    "relevant_ind = [t == 'Scintillation' for t in creatorProcess]\n",
    "photonsX = np.array(photons[\"fX\"].array())[relevant_ind]\n",
    "photonsY = np.array(photons[\"fY\"].array())[relevant_ind]\n",
    "photonsZ = np.array(photons[\"fZ\"].array())[relevant_ind]\n",
    "\n",
    "trackToParticle_dict = {}\n",
    "for particle, t_id in zip(photonType, trackID):\n",
    "    trackToParticle_dict[t_id] = particle\n",
    "parentParticle = [trackToParticle_dict[t_id] if t_id in trackID else \"none\" for t_id in parentTrackID]\n",
    "\n",
    "def compute_hist(l):\n",
    "    d = {}\n",
    "    for t in l:\n",
    "        if t not in d:\n",
    "            d[t] = 1\n",
    "        else:\n",
    "            d[t] += 1\n",
    "    return d\n",
    "\n",
    "jointDict = compute_hist([p1 + ', ' + p2 + ', ' + str(p3) + ', ' + str(p4) + ', ' + str(p5)+ ', ' + str(p6)+ ', ' + str(p7)+ ', ' + str(p8)+ ', ' + str(p9)+ ', ' \n",
    "                          for ((((((((p1,p2), p3), p4), p5),p6),p7),p8),p9) in zip(zip(zip(zip(zip(zip(zip(zip(photonType, processType), material), parentParticle), creatorProcess),status),processType2),subSrocessType),firstStep)])\n",
    "print(\"particle\\tproces\\t\\tmaterial\\tparentPar\\tcreatorProc\\tstatus\\tprocessType2\\tsubSrocessType\\tfirst step\\tstep index\\tnum events\\n\")\n",
    "for key, item in jointDict.items():\n",
    "    line = '\\t\\t'.join([k[:6] for k in key.split(', ')]) + '\\t\\t' + str(item)\n",
    "    print(line)\n",
    "#electron_filter=[proces=='none' and creatorProc == 'phot'  for ((proces,creatorProc),ind) in zip(processType, creatorProcess)]\n",
    "#print(np.sum(electron_filter))"
   ]
  },
  {
   "cell_type": "code",
   "execution_count": 24,
   "metadata": {},
   "outputs": [
    {
     "data": {
      "image/png": "[encoded data removed]",
      "text/plain": [
       "<Figure size 640x480 with 1 Axes>"
      ]
     },
     "metadata": {},
     "output_type": "display_data"
    }
   ],
   "source": [
    "# Plot absorption as a function of the depth\n",
    "import numpy as np\n",
    "import matplotlib.pyplot as plt\n",
    "from matplotlib import cm\n",
    "fig = plt.figure()\n",
    "ax = fig.add_subplot(111)\n",
    "\n",
    "ax.hist(photonsZ*1e6, bins=int(np.sqrt(len(photonsZ))))\n",
    "\n",
    "ax.set_xlabel('Z [nm]')\n",
    "ax.set_ylabel('# of photons created')\n",
    "ax.set_title('Histogram of photons depth creation')\n",
    "plt.show()"
   ]
  },
  {
   "cell_type": "code",
   "execution_count": 25,
   "metadata": {},
   "outputs": [
    {
     "name": "stderr",
     "output_type": "stream",
     "text": [
      "/tmp/ipykernel_2520753/1292664615.py:11: DeprecationWarning: `row_stack` alias is deprecated. Use `np.vstack` directly.\n",
      "  kde = gaussian_kde(np.row_stack((photonsX_kde, photonsY_kde, photonsZ_kde)))\n"
     ]
    }
   ],
   "source": [
    "from scipy.stats import gaussian_kde\n",
    "import multiprocessing\n",
    "import os\n",
    "os.environ['DISPLAY'] = 'localhost:10.0'\n",
    "\n",
    "def calc_kde(data):\n",
    "    return kde(data.T)\n",
    "\n",
    "# Calculate kernel density estimation\n",
    "photonsX_kde, photonsY_kde, photonsZ_kde = photonsX*1e6, photonsY*1e6, photonsZ*1e6\n",
    "kde = gaussian_kde(np.row_stack((photonsX_kde, photonsY_kde, photonsZ_kde)))\n",
    "\n",
    "# Evaluate kde on a grid\n",
    "grid_size = 30j\n",
    "factor = 30\n",
    "xmin, ymin, zmin = photonsX_kde.min()/factor, photonsY_kde.min()/factor, photonsZ_kde.min()\n",
    "xmax, ymax, zmax = photonsX_kde.max()/factor, photonsY_kde.max()/factor, photonsZ_kde.max()\n",
    "xi, yi, zi = np.mgrid[xmin:xmax:grid_size, ymin:ymax:grid_size, zmin:zmax:grid_size]\n",
    "coords = np.vstack([item.ravel() for item in [xi, yi, zi]]) \n",
    "\n",
    "# Multiprocessing\n",
    "cores = multiprocessing.cpu_count()\n",
    "pool = multiprocessing.Pool(processes=cores)\n",
    "results = pool.map(calc_kde, np.array_split(coords.T, 2))\n",
    "density = np.concatenate(results).reshape(xi.shape)"
   ]
  },
  {
   "cell_type": "code",
   "execution_count": 26,
   "metadata": {},
   "outputs": [
    {
     "ename": "ModuleNotFoundError",
     "evalue": "No module named 'mayavi'",
     "output_type": "error",
     "traceback": [
      "\u001b[0;31m---------------------------------------------------------------------------\u001b[0m",
      "\u001b[0;31mModuleNotFoundError\u001b[0m                       Traceback (most recent call last)",
      "Cell \u001b[0;32mIn[26], line 2\u001b[0m\n\u001b[1;32m      1\u001b[0m \u001b[38;5;66;03m# Plot scatter with mayavi\u001b[39;00m\n\u001b[0;32m----> 2\u001b[0m \u001b[38;5;28;01mfrom\u001b[39;00m \u001b[38;5;21;01mmayavi\u001b[39;00m \u001b[38;5;28;01mimport\u001b[39;00m mlab\n\u001b[1;32m      3\u001b[0m figure \u001b[38;5;241m=\u001b[39m mlab\u001b[38;5;241m.\u001b[39mfigure(\u001b[38;5;124m'\u001b[39m\u001b[38;5;124mDensityPlot\u001b[39m\u001b[38;5;124m'\u001b[39m, bgcolor\u001b[38;5;241m=\u001b[39m(\u001b[38;5;241m1\u001b[39m,\u001b[38;5;241m1\u001b[39m,\u001b[38;5;241m1\u001b[39m), fgcolor\u001b[38;5;241m=\u001b[39m(\u001b[38;5;241m0\u001b[39m,\u001b[38;5;241m0\u001b[39m,\u001b[38;5;241m0\u001b[39m))\n\u001b[1;32m      5\u001b[0m grid \u001b[38;5;241m=\u001b[39m mlab\u001b[38;5;241m.\u001b[39mpipeline\u001b[38;5;241m.\u001b[39mscalar_field(xi, yi, zi, density)\n",
      "\u001b[0;31mModuleNotFoundError\u001b[0m: No module named 'mayavi'"
     ]
    }
   ],
   "source": [
    "# Plot scatter with mayavi\n",
    "from mayavi import mlab\n",
    "figure = mlab.figure('DensityPlot', bgcolor=(1,1,1), fgcolor=(0,0,0))\n",
    "\n",
    "grid = mlab.pipeline.scalar_field(xi, yi, zi, density)\n",
    "mlab.pipeline.volume(grid, vmin=density.min() + .5*(density.max()-density.min()), vmax=density.min() + .9*(density.max()-density.min()))\n",
    "\n",
    "mlab.axes()\n",
    "mlab.show()"
   ]
  },
  {
   "cell_type": "code",
   "execution_count": null,
   "metadata": {},
   "outputs": [],
   "source": [
    "import os\n",
    "os.environ['DISPLAY'] = 'localhost:10.0'\n",
    "# Create a 3D plot\n",
    "fig = plt.figure()\n",
    "ax = fig.add_subplot(111, projection='3d')\n",
    "\n",
    "# Set the transparency as a function of density\n",
    "alpha = ((density - density.min()) / (density.max() - density.min()))**100\n",
    "\n",
    "# Scatter plot the points with color based on density\n",
    "ax.scatter(xi, yi, zi, c=density.flatten(), alpha=alpha.flatten(), cmap=cm.coolwarm)\n",
    "\n",
    "ax.set_xlabel('X')\n",
    "ax.set_ylabel('Y')\n",
    "ax.set_zlabel('Z')\n",
    "ax.set_title('Density of Photon Creation')\n",
    "plt.show()"
   ]
  }
 ],
 "metadata": {
  "kernelspec": {
   "display_name": "Python 3",
   "language": "python",
   "name": "python3"
  },
  "language_info": {
   "codemirror_mode": {
    "name": "ipython",
    "version": 3
   },
   "file_extension": ".py",
   "mimetype": "text/x-python",
   "name": "python",
   "nbconvert_exporter": "python",
   "pygments_lexer": "ipython3",
   "version": "3.11.9"
  },
  "orig_nbformat": 4
 },
 "nbformat": 4,
 "nbformat_minor": 2
}
